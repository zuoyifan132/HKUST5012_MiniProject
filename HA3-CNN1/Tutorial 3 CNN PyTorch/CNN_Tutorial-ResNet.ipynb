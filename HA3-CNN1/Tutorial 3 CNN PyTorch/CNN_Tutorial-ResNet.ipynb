{
  "cells": [
    {
      "cell_type": "markdown",
      "metadata": {
        "id": "cGMDCy-OD9dU"
      },
      "source": [
        " # **CNN Tutorial Fall, 2022**\n"
      ]
    },
    {
      "cell_type": "markdown",
      "metadata": {
        "id": "Qbnp172ED9dY"
      },
      "source": [
        "# A Convolutional ResNet and Residual Blocks"
      ]
    },
    {
      "cell_type": "markdown",
      "metadata": {
        "id": "Bb2saO88D9dY"
      },
      "source": [
        "Please note that this example does not implement a really deep ResNet as described in literature but rather illustrates how the residual blocks described in He et al. [1] can be implemented in PyTorch.\n",
        "\n",
        "- [1] He, Kaiming, et al. \"Deep residual learning for image recognition.\" *Proceedings of the IEEE conference on computer vision and pattern recognition*. 2016."
      ]
    },
    {
      "cell_type": "markdown",
      "metadata": {
        "id": "iA3otHoID9dY"
      },
      "source": [
        "## Imports"
      ]
    },
    {
      "cell_type": "code",
      "execution_count": 1,
      "metadata": {
        "id": "hL3P589ZD9dY"
      },
      "outputs": [],
      "source": [
        "import time\n",
        "import numpy as np\n",
        "import torch\n",
        "from torch.utils.data import DataLoader\n",
        "from torchvision import datasets\n",
        "from torchvision import transforms"
      ]
    },
    {
      "cell_type": "markdown",
      "metadata": {
        "id": "J4rI2Ux5D9dZ"
      },
      "source": [
        "## Settings and Dataset"
      ]
    },
    {
      "cell_type": "code",
      "source": [
        "print(torch.cuda.is_available())"
      ],
      "metadata": {
        "colab": {
          "base_uri": "https://localhost:8080/"
        },
        "id": "OWjCF-ILFf8Y",
        "outputId": "29ca8035-334f-480f-8e6b-2a1de2af3f38"
      },
      "execution_count": 2,
      "outputs": [
        {
          "output_type": "stream",
          "name": "stdout",
          "text": [
            "True\n"
          ]
        }
      ]
    },
    {
      "cell_type": "code",
      "execution_count": 3,
      "metadata": {
        "colab": {
          "base_uri": "https://localhost:8080/"
        },
        "id": "BkWg3nkVD9dZ",
        "outputId": "d4676fc2-4197-4d63-deef-817a064f0aa2"
      },
      "outputs": [
        {
          "output_type": "stream",
          "name": "stdout",
          "text": [
            "Image batch dimensions: torch.Size([128, 1, 28, 28])\n",
            "Image label dimensions: torch.Size([128])\n"
          ]
        }
      ],
      "source": [
        "##########################\n",
        "### SETTINGS\n",
        "##########################\n",
        "\n",
        "# Device\n",
        "device = torch.device(\"cuda:0\" if torch.cuda.is_available() else \"cpu\")\n",
        "\n",
        "# Hyperparameters\n",
        "random_seed = 123\n",
        "learning_rate = 0.01\n",
        "num_epochs = 5\n",
        "batch_size = 128\n",
        "\n",
        "# Architecture\n",
        "num_classes = 10\n",
        "\n",
        "\n",
        "##########################\n",
        "### MNIST DATASET\n",
        "##########################\n",
        "\n",
        "# Note transforms.ToTensor() scales input images\n",
        "# to 0-1 range\n",
        "train_dataset = datasets.MNIST(root='data', \n",
        "                               train=True, \n",
        "                               transform=transforms.ToTensor(),\n",
        "                               download=True)\n",
        "\n",
        "test_dataset = datasets.MNIST(root='data', \n",
        "                              train=False, \n",
        "                              transform=transforms.ToTensor())\n",
        "\n",
        "\n",
        "train_loader = DataLoader(dataset=train_dataset, \n",
        "                          batch_size=batch_size, \n",
        "                          shuffle=True)\n",
        "\n",
        "test_loader = DataLoader(dataset=test_dataset, \n",
        "                         batch_size=batch_size, \n",
        "                         shuffle=False)\n",
        "\n",
        "# Checking the dataset\n",
        "for images, labels in train_loader:  \n",
        "    print('Image batch dimensions:', images.shape)\n",
        "    print('Image label dimensions:', labels.shape)\n",
        "    break"
      ]
    },
    {
      "cell_type": "markdown",
      "metadata": {
        "id": "Gl6nLS6BD9da"
      },
      "source": [
        "## ResNet with identity blocks"
      ]
    },
    {
      "cell_type": "markdown",
      "metadata": {
        "id": "I3-XpbISD9da"
      },
      "source": [
        "The following code implements the residual blocks with skip connections such that the input passed via the shortcut matches the dimensions of the main path's output, which allows the network to learn identity functions. Such a residual block is illustrated below:\n",
        "\n",
        "![](./2-resnet-ex/resnet-ex-1-1.png)"
      ]
    },
    {
      "cell_type": "code",
      "execution_count": 4,
      "metadata": {
        "tags": [],
        "id": "5FX8LibRD9da"
      },
      "outputs": [],
      "source": [
        "##########################\n",
        "### MODEL\n",
        "##########################\n",
        "\n",
        "\n",
        "class ConvNet(torch.nn.Module):\n",
        "\n",
        "    def __init__(self, num_classes):\n",
        "        super(ConvNet, self).__init__()\n",
        "        \n",
        "        #########################\n",
        "        ### 1st residual block\n",
        "        #########################\n",
        "        \n",
        "        self.block_1 = torch.nn.Sequential(\n",
        "                torch.nn.Conv2d(in_channels=1,\n",
        "                                out_channels=4,\n",
        "                                kernel_size=(1, 1),\n",
        "                                stride=(1, 1),\n",
        "                                padding=0),\n",
        "                torch.nn.BatchNorm2d(4),\n",
        "                torch.nn.ReLU(inplace=True),\n",
        "                torch.nn.Conv2d(in_channels=4,\n",
        "                                out_channels=1,\n",
        "                                kernel_size=(3, 3),\n",
        "                                stride=(1, 1),\n",
        "                                padding=1),\n",
        "                torch.nn.BatchNorm2d(1)\n",
        "        )\n",
        "        \n",
        "        self.block_2 = torch.nn.Sequential(\n",
        "                torch.nn.Conv2d(in_channels=1,\n",
        "                                out_channels=4,\n",
        "                                kernel_size=(1, 1),\n",
        "                                stride=(1, 1),\n",
        "                                padding=0),\n",
        "                torch.nn.BatchNorm2d(4),\n",
        "                torch.nn.ReLU(inplace=True),\n",
        "                torch.nn.Conv2d(in_channels=4,\n",
        "                                out_channels=1,\n",
        "                                kernel_size=(3, 3),\n",
        "                                stride=(1, 1),\n",
        "                                padding=1),\n",
        "                torch.nn.BatchNorm2d(1)\n",
        "        )\n",
        "\n",
        "        #########################\n",
        "        ### Fully connected\n",
        "        #########################        \n",
        "        self.linear_1 = torch.nn.Linear(1*28*28, num_classes)\n",
        "\n",
        "        \n",
        "    def forward(self, x):\n",
        "        \n",
        "        #########################\n",
        "        ### 1st residual block\n",
        "        #########################\n",
        "        shortcut = x\n",
        "        x = self.block_1(x)\n",
        "        x = torch.nn.functional.relu(x + shortcut)\n",
        "        \n",
        "        #########################\n",
        "        ### 2nd residual block\n",
        "        #########################\n",
        "        shortcut = x\n",
        "        x = self.block_2(x)\n",
        "        x = torch.nn.functional.relu(x + shortcut)\n",
        "        \n",
        "        #########################\n",
        "        ### Fully connected\n",
        "        #########################\n",
        "        logits = self.linear_1(x.view(-1,  1*28*28))\n",
        "        return logits\n",
        "\n",
        "    \n",
        "torch.manual_seed(random_seed)\n",
        "model = ConvNet(num_classes=num_classes)\n",
        "model = model.to(device)\n",
        "    \n",
        "optimizer = torch.optim.Adam(model.parameters(), lr=learning_rate)  "
      ]
    },
    {
      "cell_type": "markdown",
      "metadata": {
        "id": "8DsF_9PtD9db"
      },
      "source": [
        "### Training"
      ]
    },
    {
      "cell_type": "code",
      "execution_count": 5,
      "metadata": {
        "colab": {
          "base_uri": "https://localhost:8080/"
        },
        "id": "HFCPO8CXD9db",
        "outputId": "3521ab7c-6c95-4207-afbf-36313aede170"
      },
      "outputs": [
        {
          "output_type": "stream",
          "name": "stdout",
          "text": [
            "Epoch: 001/005 | Batch 000/469 | Cost: 2.6800\n",
            "Epoch: 001/005 | Batch 250/469 | Cost: 0.3115\n",
            "Epoch: 001/005 training accuracy: 91.60%\n",
            "Time elapsed: 0.27 min\n",
            "Epoch: 002/005 | Batch 000/469 | Cost: 0.3242\n",
            "Epoch: 002/005 | Batch 250/469 | Cost: 0.2183\n",
            "Epoch: 002/005 training accuracy: 91.86%\n",
            "Time elapsed: 0.45 min\n",
            "Epoch: 003/005 | Batch 000/469 | Cost: 0.2068\n",
            "Epoch: 003/005 | Batch 250/469 | Cost: 0.2889\n",
            "Epoch: 003/005 training accuracy: 92.55%\n",
            "Time elapsed: 0.63 min\n",
            "Epoch: 004/005 | Batch 000/469 | Cost: 0.2795\n",
            "Epoch: 004/005 | Batch 250/469 | Cost: 0.2964\n",
            "Epoch: 004/005 training accuracy: 92.75%\n",
            "Time elapsed: 0.81 min\n",
            "Epoch: 005/005 | Batch 000/469 | Cost: 0.3598\n",
            "Epoch: 005/005 | Batch 250/469 | Cost: 0.2741\n",
            "Epoch: 005/005 training accuracy: 93.10%\n",
            "Time elapsed: 1.03 min\n",
            "Total Training Time: 1.03 min\n"
          ]
        }
      ],
      "source": [
        "def compute_accuracy(model, data_loader):\n",
        "    correct_pred, num_examples = 0, 0\n",
        "    for i, (features, targets) in enumerate(data_loader):            \n",
        "        features = features.to(device)\n",
        "        targets = targets.to(device)\n",
        "        logits = model(features)\n",
        "        _, predicted_labels = torch.max(logits, 1)\n",
        "        num_examples += targets.size(0)\n",
        "        correct_pred += (predicted_labels == targets).sum()\n",
        "    return correct_pred.float()/num_examples * 100\n",
        "\n",
        "\n",
        "start_time = time.time()\n",
        "for epoch in range(num_epochs):\n",
        "    model = model.train()\n",
        "    for batch_idx, (features, targets) in enumerate(train_loader):\n",
        "        \n",
        "        features = features.to(device)\n",
        "        targets = targets.to(device)\n",
        "        \n",
        "        ### FORWARD AND BACK PROP\n",
        "        logits = model(features)\n",
        "        cost = torch.nn.functional.cross_entropy(logits, targets)\n",
        "        optimizer.zero_grad()\n",
        "        \n",
        "        cost.backward()\n",
        "        \n",
        "        ### UPDATE MODEL PARAMETERS\n",
        "        optimizer.step()\n",
        "        \n",
        "        ### LOGGING\n",
        "        if not batch_idx % 250:\n",
        "            print ('Epoch: %03d/%03d | Batch %03d/%03d | Cost: %.4f' \n",
        "                   %(epoch+1, num_epochs, batch_idx, \n",
        "                     len(train_loader), cost))\n",
        "\n",
        "    model = model.eval() # eval mode to prevent upd. batchnorm params during inference\n",
        "    with torch.set_grad_enabled(False): # save memory during inference\n",
        "        print('Epoch: %03d/%03d training accuracy: %.2f%%' % (\n",
        "              epoch+1, num_epochs, \n",
        "              compute_accuracy(model, train_loader)))\n",
        "\n",
        "    print('Time elapsed: %.2f min' % ((time.time() - start_time)/60))\n",
        "    \n",
        "print('Total Training Time: %.2f min' % ((time.time() - start_time)/60))"
      ]
    },
    {
      "cell_type": "code",
      "execution_count": 7,
      "metadata": {
        "colab": {
          "base_uri": "https://localhost:8080/"
        },
        "id": "vhpCKHMTD9db",
        "outputId": "c4457b08-9864-48b3-f866-ec0a1677e55f"
      },
      "outputs": [
        {
          "output_type": "stream",
          "name": "stdout",
          "text": [
            "Test accuracy: 92.36%\n"
          ]
        }
      ],
      "source": [
        "print('Test accuracy: %.2f%%' % (compute_accuracy(model, test_loader)))"
      ]
    },
    {
      "cell_type": "markdown",
      "metadata": {
        "id": "oqTJLA8HD9dc"
      },
      "source": [
        "## ResNet with convolutional blocks for resizing"
      ]
    },
    {
      "cell_type": "markdown",
      "metadata": {
        "id": "zMckTmbXD9dc"
      },
      "source": [
        "The following code implements the residual blocks with skip connections such that the input passed via the shortcut matches is resized to dimensions of the main path's output. Such a residual block is illustrated below:\n",
        "\n",
        "![](./2-resnet-ex/resnet-ex-1-2.png)"
      ]
    },
    {
      "cell_type": "code",
      "execution_count": 8,
      "metadata": {
        "id": "nNDtuF4lD9dc"
      },
      "outputs": [],
      "source": [
        "class ResidualBlock(torch.nn.Module):\n",
        "    \"\"\" Helper Class\"\"\"\n",
        "\n",
        "    def __init__(self, channels):\n",
        "        \n",
        "        super(ResidualBlock, self).__init__()\n",
        "        \n",
        "        self.block = torch.nn.Sequential(\n",
        "                torch.nn.Conv2d(in_channels=channels[0],\n",
        "                                out_channels=channels[1],\n",
        "                                kernel_size=(3, 3),\n",
        "                                stride=(2, 2),\n",
        "                                padding=1),\n",
        "                torch.nn.BatchNorm2d(channels[1]),\n",
        "                torch.nn.ReLU(inplace=True),\n",
        "                torch.nn.Conv2d(in_channels=channels[1],\n",
        "                                out_channels=channels[2],\n",
        "                                kernel_size=(1, 1),\n",
        "                                stride=(1, 1),\n",
        "                                padding=0),   \n",
        "                torch.nn.BatchNorm2d(channels[2])\n",
        "        )\n",
        "\n",
        "        self.shortcut = torch.nn.Sequential(\n",
        "                torch.nn.Conv2d(in_channels=channels[0],\n",
        "                                out_channels=channels[2],\n",
        "                                kernel_size=(1, 1),\n",
        "                                stride=(2, 2),\n",
        "                                padding=0),\n",
        "                torch.nn.BatchNorm2d(channels[2])\n",
        "        )\n",
        "            \n",
        "    def forward(self, x):\n",
        "        shortcut = x\n",
        "        \n",
        "        block = self.block(x)\n",
        "        shortcut = self.shortcut(x)    \n",
        "        x = torch.nn.functional.relu(block+shortcut)\n",
        "\n",
        "        return x"
      ]
    },
    {
      "cell_type": "code",
      "execution_count": 9,
      "metadata": {
        "id": "WW5S-eN6D9dd"
      },
      "outputs": [],
      "source": [
        "##########################\n",
        "### MODEL\n",
        "##########################\n",
        "\n",
        "\n",
        "\n",
        "class ConvNet(torch.nn.Module):\n",
        "\n",
        "    def __init__(self, num_classes):\n",
        "        super(ConvNet, self).__init__()\n",
        "        \n",
        "        self.residual_block_1 = ResidualBlock(channels=[1, 4, 8])\n",
        "        self.residual_block_2 = ResidualBlock(channels=[8, 16, 32])\n",
        "    \n",
        "        self.linear_1 = torch.nn.Linear(7*7*32, num_classes)\n",
        "\n",
        "        \n",
        "    def forward(self, x):\n",
        "\n",
        "        out = self.residual_block_1(x)\n",
        "        out = self.residual_block_2(out)\n",
        "         \n",
        "        logits = self.linear_1(out.view(-1, 7*7*32))\n",
        "        return logits\n",
        "\n",
        "    \n",
        "torch.manual_seed(random_seed)\n",
        "model = ConvNet(num_classes=num_classes)\n",
        "\n",
        "model.to(device)\n",
        "optimizer = torch.optim.Adam(model.parameters(), lr=learning_rate)  "
      ]
    },
    {
      "cell_type": "markdown",
      "metadata": {
        "id": "boOmbz25D9dd"
      },
      "source": [
        "### Training"
      ]
    },
    {
      "cell_type": "code",
      "execution_count": 10,
      "metadata": {
        "colab": {
          "base_uri": "https://localhost:8080/"
        },
        "id": "bdBA8CNUD9dd",
        "outputId": "1c8745c1-ddca-4853-b4e9-62c39b081907"
      },
      "outputs": [
        {
          "output_type": "stream",
          "name": "stdout",
          "text": [
            "Epoch: 001/005 | Batch 000/468 | Cost: 2.3534\n",
            "Epoch: 001/005 | Batch 050/468 | Cost: 0.2691\n",
            "Epoch: 001/005 | Batch 100/468 | Cost: 0.2397\n",
            "Epoch: 001/005 | Batch 150/468 | Cost: 0.1002\n",
            "Epoch: 001/005 | Batch 200/468 | Cost: 0.0645\n",
            "Epoch: 001/005 | Batch 250/468 | Cost: 0.1176\n",
            "Epoch: 001/005 | Batch 300/468 | Cost: 0.2906\n",
            "Epoch: 001/005 | Batch 350/468 | Cost: 0.1833\n",
            "Epoch: 001/005 | Batch 400/468 | Cost: 0.0386\n",
            "Epoch: 001/005 | Batch 450/468 | Cost: 0.1123\n",
            "Epoch: 001/005 training accuracy: 97.28%\n",
            "Epoch: 002/005 | Batch 000/468 | Cost: 0.1010\n",
            "Epoch: 002/005 | Batch 050/468 | Cost: 0.0555\n",
            "Epoch: 002/005 | Batch 100/468 | Cost: 0.0935\n",
            "Epoch: 002/005 | Batch 150/468 | Cost: 0.1380\n",
            "Epoch: 002/005 | Batch 200/468 | Cost: 0.1103\n",
            "Epoch: 002/005 | Batch 250/468 | Cost: 0.0301\n",
            "Epoch: 002/005 | Batch 300/468 | Cost: 0.0294\n",
            "Epoch: 002/005 | Batch 350/468 | Cost: 0.0410\n",
            "Epoch: 002/005 | Batch 400/468 | Cost: 0.0374\n",
            "Epoch: 002/005 | Batch 450/468 | Cost: 0.0736\n",
            "Epoch: 002/005 training accuracy: 98.10%\n",
            "Epoch: 003/005 | Batch 000/468 | Cost: 0.0370\n",
            "Epoch: 003/005 | Batch 050/468 | Cost: 0.0524\n",
            "Epoch: 003/005 | Batch 100/468 | Cost: 0.1254\n",
            "Epoch: 003/005 | Batch 150/468 | Cost: 0.0274\n",
            "Epoch: 003/005 | Batch 200/468 | Cost: 0.0416\n",
            "Epoch: 003/005 | Batch 250/468 | Cost: 0.0367\n",
            "Epoch: 003/005 | Batch 300/468 | Cost: 0.0133\n",
            "Epoch: 003/005 | Batch 350/468 | Cost: 0.0196\n",
            "Epoch: 003/005 | Batch 400/468 | Cost: 0.0476\n",
            "Epoch: 003/005 | Batch 450/468 | Cost: 0.0146\n",
            "Epoch: 003/005 training accuracy: 98.61%\n",
            "Epoch: 004/005 | Batch 000/468 | Cost: 0.0122\n",
            "Epoch: 004/005 | Batch 050/468 | Cost: 0.0409\n",
            "Epoch: 004/005 | Batch 100/468 | Cost: 0.0489\n",
            "Epoch: 004/005 | Batch 150/468 | Cost: 0.0670\n",
            "Epoch: 004/005 | Batch 200/468 | Cost: 0.0372\n",
            "Epoch: 004/005 | Batch 250/468 | Cost: 0.0213\n",
            "Epoch: 004/005 | Batch 300/468 | Cost: 0.0697\n",
            "Epoch: 004/005 | Batch 350/468 | Cost: 0.0304\n",
            "Epoch: 004/005 | Batch 400/468 | Cost: 0.0426\n",
            "Epoch: 004/005 | Batch 450/468 | Cost: 0.0245\n",
            "Epoch: 004/005 training accuracy: 98.68%\n",
            "Epoch: 005/005 | Batch 000/468 | Cost: 0.0449\n",
            "Epoch: 005/005 | Batch 050/468 | Cost: 0.0052\n",
            "Epoch: 005/005 | Batch 100/468 | Cost: 0.0786\n",
            "Epoch: 005/005 | Batch 150/468 | Cost: 0.0412\n",
            "Epoch: 005/005 | Batch 200/468 | Cost: 0.1334\n",
            "Epoch: 005/005 | Batch 250/468 | Cost: 0.0246\n",
            "Epoch: 005/005 | Batch 300/468 | Cost: 0.0218\n",
            "Epoch: 005/005 | Batch 350/468 | Cost: 0.0257\n",
            "Epoch: 005/005 | Batch 400/468 | Cost: 0.0158\n",
            "Epoch: 005/005 | Batch 450/468 | Cost: 0.0372\n",
            "Epoch: 005/005 training accuracy: 98.55%\n"
          ]
        }
      ],
      "source": [
        "for epoch in range(num_epochs):\n",
        "    model = model.train()\n",
        "    for batch_idx, (features, targets) in enumerate(train_loader):\n",
        "        \n",
        "        features = features.to(device)\n",
        "        targets = targets.to(device)\n",
        "            \n",
        "        ### FORWARD AND BACK PROP\n",
        "        logits = model(features)\n",
        "        cost = torch.nn.functional.cross_entropy(logits, targets)\n",
        "        optimizer.zero_grad()\n",
        "        \n",
        "        cost.backward()\n",
        "        \n",
        "        ### UPDATE MODEL PARAMETERS\n",
        "        optimizer.step()\n",
        "        \n",
        "        ### LOGGING\n",
        "        if not batch_idx % 50:\n",
        "            print ('Epoch: %03d/%03d | Batch %03d/%03d | Cost: %.4f' \n",
        "                   %(epoch+1, num_epochs, batch_idx, \n",
        "                     len(train_dataset)//batch_size, cost))\n",
        "\n",
        "    model = model.eval() # eval mode to prevent upd. batchnorm params during inference\n",
        "    with torch.set_grad_enabled(False): # save memory during inference\n",
        "        print('Epoch: %03d/%03d training accuracy: %.2f%%' % (\n",
        "              epoch+1, num_epochs, \n",
        "              compute_accuracy(model, train_loader)))"
      ]
    },
    {
      "cell_type": "code",
      "execution_count": 11,
      "metadata": {
        "colab": {
          "base_uri": "https://localhost:8080/"
        },
        "id": "M0QOymbqD9de",
        "outputId": "52b75e60-cb13-4766-cc72-e3e767fd6bd1"
      },
      "outputs": [
        {
          "output_type": "stream",
          "name": "stdout",
          "text": [
            "Test accuracy: 97.95%\n"
          ]
        }
      ],
      "source": [
        "print('Test accuracy: %.2f%%' % (compute_accuracy(model, test_loader)))"
      ]
    }
  ],
  "metadata": {
    "kernelspec": {
      "display_name": "Python 3",
      "language": "python",
      "name": "python3"
    },
    "language_info": {
      "codemirror_mode": {
        "name": "ipython",
        "version": 3
      },
      "file_extension": ".py",
      "mimetype": "text/x-python",
      "name": "python",
      "nbconvert_exporter": "python",
      "pygments_lexer": "ipython3",
      "version": "3.9.2"
    },
    "toc": {
      "nav_menu": {},
      "number_sections": true,
      "sideBar": true,
      "skip_h1_title": false,
      "title_cell": "Table of Contents",
      "title_sidebar": "Contents",
      "toc_cell": false,
      "toc_position": {},
      "toc_section_display": true,
      "toc_window_display": true
    },
    "colab": {
      "provenance": []
    },
    "accelerator": "GPU",
    "gpuClass": "standard"
  },
  "nbformat": 4,
  "nbformat_minor": 0
}